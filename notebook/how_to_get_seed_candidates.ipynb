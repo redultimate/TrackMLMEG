{
 "cells": [
  {
   "cell_type": "markdown",
   "metadata": {},
   "source": [
    "### 自分で計算する場合\n",
    "- あらかじめlookup_tableのDLを前提とします. (res以下にある)\n",
    "- debugを1にした時には各layer2つき, 2hitずつ処理した結果が出力されます.\n",
    "- ループの数を2つより減らすことができなかったので結構時間がかかります.\n",
    "    - hit combinationの数が爆発するから\n",
    "    - 組み合わせの数を減らそう"
   ]
  },
  {
   "cell_type": "code",
   "execution_count": 1,
   "metadata": {
    "collapsed": false
   },
   "outputs": [],
   "source": [
    "import sys\n",
    "sys.path.append(\"../lib/\")\n",
    "\n",
    "import time\n",
    "\n",
    "# meg library\n",
    "import seed_finder as sf\n",
    "import read_data as rd\n",
    "\n",
    "#path\n",
    "path_to_data = \"../path_to_data\"\n",
    "path_to_tables = \"../../trackmlmeg/res\""
   ]
  },
  {
   "cell_type": "code",
   "execution_count": 2,
   "metadata": {
    "collapsed": false
   },
   "outputs": [
    {
     "name": "stdout",
     "output_type": "stream",
     "text": [
      "Nevent: train 100, test 125\n"
     ]
    }
   ],
   "source": [
    "dh = rd.DataHandler()\n",
    "train, test, det = dh.get_event_list(path_to_data)\n",
    "event = \"train_100_events/event000001000\""
   ]
  },
  {
   "cell_type": "code",
   "execution_count": 3,
   "metadata": {
    "collapsed": false
   },
   "outputs": [
    {
     "name": "stdout",
     "output_type": "stream",
     "text": [
      "12263\n"
     ]
    }
   ],
   "source": [
    "hits = dh.read_all(event)\n",
    "#hits = hits[:10000]\n",
    "#hits"
   ]
  },
  {
   "cell_type": "code",
   "execution_count": 4,
   "metadata": {
    "collapsed": false
   },
   "outputs": [],
   "source": [
    "seeding = sf.SeedFinder(10, 50)"
   ]
  },
  {
   "cell_type": "code",
   "execution_count": null,
   "metadata": {
    "collapsed": true
   },
   "outputs": [],
   "source": [
    "start = time.time()\n",
    "hitids, track_parameters = seeding.get_candidates(hits, path_to_tables)\n",
    "end = time.time()\n",
    "print(end - start)"
   ]
  },
  {
   "cell_type": "code",
   "execution_count": 11,
   "metadata": {
    "collapsed": false
   },
   "outputs": [
    {
     "data": {
      "text/plain": [
       "(1290324, 3)"
      ]
     },
     "execution_count": 11,
     "metadata": {},
     "output_type": "execute_result"
    }
   ],
   "source": [
    "hitids.shape"
   ]
  },
  {
   "cell_type": "code",
   "execution_count": 12,
   "metadata": {
    "collapsed": false
   },
   "outputs": [
    {
     "data": {
      "text/plain": [
       "(1290324, 3)"
      ]
     },
     "execution_count": 12,
     "metadata": {},
     "output_type": "execute_result"
    }
   ],
   "source": [
    "track_parameters.shape"
   ]
  },
  {
   "cell_type": "code",
   "execution_count": 20,
   "metadata": {
    "collapsed": false
   },
   "outputs": [],
   "source": [
    "import pickle as pkl\n",
    "f = open('../../trackmlmeg/res/hitids.pkl', 'wb')\n",
    "pkl.dump(hitids, f)\n",
    "f = open('../../trackmlmeg/res/track_parameters.pkl', 'wb')\n",
    "pkl.dump(track_parameters, f)"
   ]
  },
  {
   "cell_type": "markdown",
   "metadata": {},
   "source": [
    "### すでに計算済の結果を使う場合"
   ]
  },
  {
   "cell_type": "code",
   "execution_count": 21,
   "metadata": {
    "collapsed": false
   },
   "outputs": [],
   "source": [
    "import pickle as pkl\n",
    "f = open('../../trackmlmeg/res/hitids.pkl', 'rb')\n",
    "a = pkl.load(f)\n",
    "f = open('../../trackmlmeg/res/track_parameters.pkl', 'rb')\n",
    "b = pkl.load(f)"
   ]
  },
  {
   "cell_type": "code",
   "execution_count": 22,
   "metadata": {
    "collapsed": false
   },
   "outputs": [
    {
     "data": {
      "text/plain": [
       "(1290324, 3)"
      ]
     },
     "execution_count": 22,
     "metadata": {},
     "output_type": "execute_result"
    }
   ],
   "source": [
    "a.shape"
   ]
  },
  {
   "cell_type": "code",
   "execution_count": 23,
   "metadata": {
    "collapsed": false
   },
   "outputs": [
    {
     "data": {
      "text/plain": [
       "(1290324, 3)"
      ]
     },
     "execution_count": 23,
     "metadata": {},
     "output_type": "execute_result"
    }
   ],
   "source": [
    "b.shape"
   ]
  },
  {
   "cell_type": "markdown",
   "metadata": {
    "collapsed": true
   },
   "source": [
    "### Cを使って高速化\n",
    "- 以下を走らせる前に, lib/以下で次のコマンドを実行する\n",
    "```\n",
    "python setup.py install_lib\n",
    "```\n",
    "- 現在の記録: 7732 sec (以前は125410 sec)"
   ]
  },
  {
   "cell_type": "code",
   "execution_count": 1,
   "metadata": {
    "collapsed": true
   },
   "outputs": [],
   "source": [
    "import sys\n",
    "sys.path.append(\"../lib/\")\n",
    "\n",
    "import time\n",
    "\n",
    "# meg library\n",
    "#import seed_finder_loop2 as sfl2\n",
    "import seed_finder_loop3 as sfl3\n",
    "import read_data as rd\n",
    "\n",
    "#path\n",
    "path_to_data = \"../path_to_data\"\n",
    "path_to_tables = \"../../trackmlmeg/res\""
   ]
  },
  {
   "cell_type": "code",
   "execution_count": 2,
   "metadata": {
    "collapsed": false
   },
   "outputs": [
    {
     "name": "stdout",
     "output_type": "stream",
     "text": [
      "Nevent: train 100, test 125\n"
     ]
    }
   ],
   "source": [
    "dh = rd.DataHandler()\n",
    "train, test, det = dh.get_event_list(path_to_data)\n",
    "event = \"train_100_events/event000001000\""
   ]
  },
  {
   "cell_type": "code",
   "execution_count": 3,
   "metadata": {
    "collapsed": false
   },
   "outputs": [
    {
     "name": "stdout",
     "output_type": "stream",
     "text": [
      "12263\n"
     ]
    },
    {
     "data": {
      "text/plain": [
       "dtype('float64')"
      ]
     },
     "execution_count": 3,
     "metadata": {},
     "output_type": "execute_result"
    }
   ],
   "source": [
    "hits = dh.read_all(event)\n",
    "hits = hits.astype(float)\n",
    "hits = hits.loc[:, ['hit_id','x','y', 'volume_id', 'layer_id', 'module_id', 'particle_id', 'weight']].values\n",
    "hits.dtype\n",
    "#import pandas as pd\n",
    "#hits = hits.loc[:, ['hit_id','x','y', 'volume_id', 'layer_id', 'module_id', 'particle_id', 'weight']]"
   ]
  },
  {
   "cell_type": "code",
   "execution_count": 4,
   "metadata": {
    "collapsed": false
   },
   "outputs": [],
   "source": [
    "seeding = sfl3.SeedFinder(10, 0)"
   ]
  },
  {
   "cell_type": "code",
   "execution_count": null,
   "metadata": {
    "collapsed": true
   },
   "outputs": [],
   "source": [
    "start = time.time()\n",
    "hitids, track_parameters = seeding.get_candidates(hits, path_to_tables)\n",
    "end = time.time()\n",
    "print(end - start)"
   ]
  },
  {
   "cell_type": "code",
   "execution_count": 10,
   "metadata": {
    "collapsed": false
   },
   "outputs": [
    {
     "data": {
      "text/plain": [
       "(1290323, 3)"
      ]
     },
     "execution_count": 10,
     "metadata": {},
     "output_type": "execute_result"
    }
   ],
   "source": [
    "hitids.shape"
   ]
  },
  {
   "cell_type": "code",
   "execution_count": 11,
   "metadata": {
    "collapsed": false
   },
   "outputs": [
    {
     "data": {
      "text/plain": [
       "(1290323, 3)"
      ]
     },
     "execution_count": 11,
     "metadata": {},
     "output_type": "execute_result"
    }
   ],
   "source": [
    "track_parameters.shape"
   ]
  },
  {
   "cell_type": "code",
   "execution_count": 8,
   "metadata": {
    "collapsed": true
   },
   "outputs": [],
   "source": [
    "import pickle as pkl\n",
    "f = open('../../trackmlmeg/res/hitids.pkl', 'wb')\n",
    "pkl.dump(hitids, f)\n",
    "f = open('../../trackmlmeg/res/track_parameters.pkl', 'wb')\n",
    "pkl.dump(track_parameters, f)"
   ]
  },
  {
   "cell_type": "code",
   "execution_count": null,
   "metadata": {
    "collapsed": true
   },
   "outputs": [],
   "source": []
  }
 ],
 "metadata": {
  "kernelspec": {
   "display_name": "Python 3",
   "language": "python",
   "name": "python3"
  },
  "language_info": {
   "codemirror_mode": {
    "name": "ipython",
    "version": 3
   },
   "file_extension": ".py",
   "mimetype": "text/x-python",
   "name": "python",
   "nbconvert_exporter": "python",
   "pygments_lexer": "ipython3",
   "version": "3.6.5"
  }
 },
 "nbformat": 4,
 "nbformat_minor": 2
}
