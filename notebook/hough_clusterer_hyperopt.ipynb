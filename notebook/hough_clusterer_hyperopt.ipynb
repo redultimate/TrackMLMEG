{
 "cells": [
  {
   "cell_type": "markdown",
   "metadata": {},
   "source": [
    "### モジュール読み込み"
   ]
  },
  {
   "cell_type": "code",
   "execution_count": 1,
   "metadata": {
    "collapsed": true
   },
   "outputs": [],
   "source": [
    "import os\n",
    "\n",
    "import numpy as np\n",
    "import pandas as pd\n",
    "\n",
    "from trackml.dataset import load_event,  load_dataset\n",
    "from trackml.randomize import shuffle_hits\n",
    "from trackml.score import score_event\n",
    "\n",
    "%matplotlib inline\n",
    "\n",
    "import sys\n",
    "sys.path.append(\"../lib/\")\n",
    "\n",
    "import hough_clusterer as hc\n",
    "from hyperopt import fmin, tpe, hp, rand"
   ]
  },
  {
   "cell_type": "markdown",
   "metadata": {},
   "source": [
    "### データ読み込み"
   ]
  },
  {
   "cell_type": "code",
   "execution_count": 2,
   "metadata": {
    "collapsed": false
   },
   "outputs": [
    {
     "name": "stdout",
     "output_type": "stream",
     "text": [
      "event000001000 memory usage 18.46 MB\n"
     ]
    }
   ],
   "source": [
    "path_to_train = '../path_to_train'\n",
    "event_prefix = 'event000001000'\n",
    "hits, cells, particles, truth = load_event(os.path.join(path_to_train, event_prefix))\n",
    "\n",
    "mem_bytes = (hits.memory_usage(index=True).sum() \n",
    "             + cells.memory_usage(index=True).sum() \n",
    "             + particles.memory_usage(index=True).sum() \n",
    "             + truth.memory_usage(index=True).sum())\n",
    "print('{} memory usage {:.2f} MB'.format(event_prefix, mem_bytes / 2**20))"
   ]
  },
  {
   "cell_type": "markdown",
   "metadata": {},
   "source": [
    "### モデル"
   ]
  },
  {
   "cell_type": "code",
   "execution_count": 12,
   "metadata": {
    "collapsed": false
   },
   "outputs": [],
   "source": [
    "parameter_space = {\n",
    "    'N_bins_r0inv': hp.choice('N_bins_r0inv', [100, 200, 300, 400]),\n",
    "    'N_bins_gamma': hp.choice('N_bins_gamma', [100, 300, 500, 700]),\n",
    "    'N_theta': hp.choice('N_theta', [100, 300, 500, 700]),\n",
    "    'min_hits': hp.quniform('min_hits', 5, 15, 1)\n",
    "}\n",
    "\n",
    "def function(args):\n",
    "    print(args)\n",
    "    model = hc.Clusterer(**args)\n",
    "    labels = model.predict(hits)\n",
    "    submission = create_one_event_submission(0, hits, labels)\n",
    "    score = score_event(truth, submission)\n",
    "    print(\"Your score: \", score)\n",
    "    return -score"
   ]
  },
  {
   "cell_type": "markdown",
   "metadata": {},
   "source": [
    "### スコア関数"
   ]
  },
  {
   "cell_type": "code",
   "execution_count": 13,
   "metadata": {
    "collapsed": true
   },
   "outputs": [],
   "source": [
    "def create_one_event_submission(event_id, hits, labels):\n",
    "    sub_data = np.column_stack(([event_id]*len(hits), hits.hit_id.values, labels))\n",
    "    submission = pd.DataFrame(data=sub_data, columns=[\"event_id\", \"hit_id\", \"track_id\"]).astype(int)\n",
    "    return submission"
   ]
  },
  {
   "cell_type": "markdown",
   "metadata": {},
   "source": [
    "### ハイパーパラメータ最適化"
   ]
  },
  {
   "cell_type": "code",
   "execution_count": 14,
   "metadata": {
    "collapsed": false
   },
   "outputs": [
    {
     "name": "stdout",
     "output_type": "stream",
     "text": [
      "{'N_bins_gamma': 300, 'N_bins_r0inv': 100, 'N_theta': 500, 'min_hits': 11.0}\n",
      "Your score:  0.10885895734525605\n",
      "{'N_bins_gamma': 100, 'N_bins_r0inv': 200, 'N_theta': 300, 'min_hits': 14.0}\n",
      "Your score:  0.03868395594026128\n",
      "{'N_bins_gamma': 300, 'N_bins_r0inv': 100, 'N_theta': 500, 'min_hits': 8.0}\n",
      "Your score:  0.09081057059767003\n",
      "{'N_bins_gamma': 100, 'N_bins_r0inv': 400, 'N_theta': 300, 'min_hits': 8.0}\n",
      "Your score:  0.08265108558464049\n",
      "{'N_bins_gamma': 500, 'N_bins_r0inv': 400, 'N_theta': 100, 'min_hits': 9.0}\n",
      "Your score:  0.0386462749347377\n",
      "{'N_bins_gamma': 500, 'N_bins_r0inv': 200, 'N_theta': 500, 'min_hits': 9.0}\n",
      "Your score:  0.1403401478160794\n",
      "{'N_bins_gamma': 500, 'N_bins_r0inv': 400, 'N_theta': 500, 'min_hits': 15.0}\n",
      "Your score:  0.01219600740457967\n",
      "{'N_bins_gamma': 100, 'N_bins_r0inv': 200, 'N_theta': 300, 'min_hits': 5.0}\n",
      "Your score:  0.016810617120154896\n",
      "{'N_bins_gamma': 500, 'N_bins_r0inv': 200, 'N_theta': 700, 'min_hits': 7.0}\n",
      "Your score:  0.10893187665666071\n",
      "{'N_bins_gamma': 300, 'N_bins_r0inv': 200, 'N_theta': 100, 'min_hits': 10.0}\n",
      "Your score:  0.05479742753614501\n",
      "best parameters\n",
      "{'N_bins_gamma': 2, 'N_bins_r0inv': 1, 'N_theta': 2, 'min_hits': 9.0}\n",
      "<hough_clusterer.Clusterer object at 0x115615400>\n"
     ]
    }
   ],
   "source": [
    "best = fmin(function, parameter_space, algo=tpe.suggest, max_evals=10)\n",
    "print(\"best parameters\")\n",
    "print(best)\n",
    "model = hc.Clusterer(**best)\n",
    "print(model)"
   ]
  }
 ],
 "metadata": {
  "kernelspec": {
   "display_name": "Python 3",
   "language": "python",
   "name": "python3"
  },
  "language_info": {
   "codemirror_mode": {
    "name": "ipython",
    "version": 3
   },
   "file_extension": ".py",
   "mimetype": "text/x-python",
   "name": "python",
   "nbconvert_exporter": "python",
   "pygments_lexer": "ipython3",
   "version": "3.6.5"
  }
 },
 "nbformat": 4,
 "nbformat_minor": 2
}
